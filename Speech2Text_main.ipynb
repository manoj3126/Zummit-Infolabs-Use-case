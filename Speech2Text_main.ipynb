{
 "cells": [
  {
   "cell_type": "code",
   "execution_count": 7,
   "id": "22c6c032-2e31-4d05-8001-4943df95e3ff",
   "metadata": {},
   "outputs": [],
   "source": [
    "# Imported necessary libraries\n",
    "import time\n",
    "import speech_recognition as sr\n",
    "\n",
    "def record_and_convert_to_text(filename, sleep_duration=5):\n",
    "    # Initialize recognizer\n",
    "    recognizer = sr.Recognizer()\n",
    "\n",
    "    while True:\n",
    "        # Use the default microphone as the source\n",
    "        with sr.Microphone() as source:\n",
    "            print(f\"Sleeping for {sleep_duration} seconds before starting the recording...\")\n",
    "            time.sleep(sleep_duration)\n",
    "            print(\"Adjusting for ambient noise...\")\n",
    "            recognizer.adjust_for_ambient_noise(source)\n",
    "            print(\"Recording...\")\n",
    "            # Record audio\n",
    "            audio = recognizer.listen(source)\n",
    "            print(\"Processing...\")\n",
    "\n",
    "        try:\n",
    "            # Convert speech to text\n",
    "            text = recognizer.recognize_google(audio)\n",
    "            print(\"Text recognized: \" + text)\n",
    "        \n",
    "            # Save text to file\n",
    "            with open(filename, 'a') as file:\n",
    "                file.write(text + '\\n')\n",
    "            print(f\"Text saved to {filename}\")\n",
    "\n",
    "        except sr.UnknownValueError:\n",
    "            print(\"Google Speech Recognition could not understand the audio.\")\n",
    "        except sr.RequestError as e:\n",
    "            print(f\"Could not request results from Google Speech Recognition service; {e}\")\n",
    "\n",
    "        # Ask user if they want to continue\n",
    "        user_input = input(\"Do you want to continue recording? (yes/no): \").strip().lower()\n",
    "        if user_input != 'yes':\n",
    "            break\n",
    "\n",
    "# Call the function with a 5-second delay before recording\n",
    "record_and_convert_to_text(\"output.txt\", sleep_duration=5)"
   ]
  }
 ],
 "metadata": {
  "kernelspec": {
   "display_name": "Python 3 (ipykernel)",
   "language": "python",
   "name": "python3"
  },
  "language_info": {
   "codemirror_mode": {
    "name": "ipython",
    "version": 3
   },
   "file_extension": ".py",
   "mimetype": "text/x-python",
   "name": "python",
   "nbconvert_exporter": "python",
   "pygments_lexer": "ipython3",
   "version": "3.12.4"
  }
 },
 "nbformat": 4,
 "nbformat_minor": 5
}
